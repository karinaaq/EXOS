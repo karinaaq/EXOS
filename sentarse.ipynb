{
  "nbformat": 4,
  "nbformat_minor": 0,
  "metadata": {
    "colab": {
      "name": "sentarse.ipynb",
      "provenance": []
    },
    "kernelspec": {
      "name": "python3",
      "display_name": "Python 3"
    }
  },
  "cells": [
    {
      "cell_type": "code",
      "metadata": {
        "id": "pst8oZBPNDzn"
      },
      "source": [
        "import pandas as pd\n",
        "import numpy as np\n",
        "import matplotlib.pyplot as plt\n",
        "from matplotlib.patches import Arc\n",
        "import random\n",
        "from time import time"
      ],
      "execution_count": null,
      "outputs": []
    },
    {
      "cell_type": "code",
      "metadata": {
        "id": "hqD4xmfMNTNq",
        "outputId": "a33c8381-6cc9-4831-9d85-2d63cab12cb2",
        "colab": {
          "base_uri": "https://localhost:8080/",
          "height": 85
        }
      },
      "source": [
        "datos1 = pd.read_csv(\"/content/drive/My Drive/10mo Semestre/Robótica 2/microTP/N1.csv\")\n",
        "datos2 = pd.read_csv(\"/content/drive/My Drive/10mo Semestre/Robótica 2/microTP/N2.csv\")\n",
        "datos4 = pd.read_csv(\"/content/drive/My Drive/10mo Semestre/Robótica 2/microTP/N4.csv\")\n",
        "datos5 = pd.read_csv(\"/content/drive/My Drive/10mo Semestre/Robótica 2/microTP/N5.csv\")\n",
        "\n",
        "df1 = pd.DataFrame(data=datos1, index=list(range(len(datos1))), columns=[\"time\",\"angulo\",\"aceleracion\"])\n",
        "df2 = pd.DataFrame(data=datos2, index=list(range(len(datos2))), columns=[\"time\",\"angulo\",\"aceleracion\"])\n",
        "df4 = pd.DataFrame(data=datos4, index=list(range(len(datos4))), columns=[\"time\",\"angulo\",\"aceleracion\"])\n",
        "df5 = pd.DataFrame(data=datos5, index=list(range(len(datos5))), columns=[\"time\",\"angulo\",\"aceleracion\"])\n",
        "\n",
        "print(len(df1))\n",
        "print(len(df2))\n",
        "print(len(df4))\n",
        "print(len(df5))"
      ],
      "execution_count": null,
      "outputs": [
        {
          "output_type": "stream",
          "text": [
            "10808\n",
            "11135\n",
            "9448\n",
            "9486\n"
          ],
          "name": "stdout"
        }
      ]
    },
    {
      "cell_type": "code",
      "metadata": {
        "id": "NME0C4uaPExL",
        "outputId": "3dd88a83-6318-478b-cb6d-3bf260668720",
        "colab": {
          "base_uri": "https://localhost:8080/",
          "height": 438
        }
      },
      "source": [
        "fig=plt.figure()\n",
        "fig.set_size_inches(20, 9)\n",
        "ax=fig.add_subplot(1,1,1)\n",
        "#df = df1\n",
        "#df = df2\n",
        "df = df4\n",
        "#df = df5\n",
        "#for i in range(int(len(df)/8), int(len(df)/4)):\n",
        "#for i in range(int(len(df)/10), int(len(df)/3)):\n",
        "longitud = int(len(df)/1.05) - int(len(df))\n",
        "der = [0, 0, 0, 0, 0]\n",
        "k = int(len(df)/1.05)\n",
        "ang_l = [0, 0, 0, 0, 0]\n",
        "acc_l = [9.8, 9.8, 9.8, 9.8, 9.8]\n",
        "colores = {'E0': '#FFFF00', 'E1':'#FF9600', 'E2': '#00FFFF', 'E3': '#0000FF', 'E4': '#00FF00'}\n",
        "estado = \"E0\"\n",
        "suma = []\n",
        "aux = 0\n",
        "est_l = []\n",
        "for i in range(int(len(df)/1.05), int(len(df))):\n",
        "\n",
        "  if (i>=int(len(df)/1.05)) and (i<(int(len(df))-1)):\n",
        "    derivada = ((df['angulo'][i+1] - df['angulo'][i-1])) / (2*0.01) \n",
        "    #derivada = ((df['angulo'][i+1] - 2*df['angulo'][i] + df['angulo'][i-1])) / (0.01*0.01)\n",
        "    #print(derivada)\n",
        "    der.append(derivada)\n",
        "    #plt.plot(df[\"time\"][i],derivada,\"o\", color=\"green\")\n",
        "\n",
        "  if i>=(int(len(df)/1.05)+5):\n",
        "\n",
        "    if (i<=(int(len(df))-1)):\n",
        "      derivadaf = Counter([der[i-4-k],der[i-3-k], der[i-2-k],der[i-1-k],der[i-k]]).most_common(1)[0][0]\n",
        "\n",
        "    if (derivadaf>=0):\n",
        "      if (estado == \"E1\"):\n",
        "        break\n",
        "        #estado = \"E2\"\n",
        "      else:\n",
        "        estado = \"E0\"\n",
        "    else:\n",
        "      if (estado == \"E0\"):\n",
        "        estado = \"E1\"\n",
        "\n",
        "  plt.plot(df[\"time\"][i],derivadaf,\"o\", color=\"black\")\n",
        "  \n",
        "  #plt.plot(df[\"time\"][i],df[\"angulo\"][i],\"o\", color=\"blue\")\n",
        "  color_act = colores[estado]\n",
        "\n",
        "    \n",
        "  plt.plot(df[\"time\"][i],df[\"angulo\"][i],\"o\", color=color_act)\n",
        "  #plt.plot(df[\"time\"][i],(df[\"aceleracion\"][i]*(196/4765)),\"o\", color=\"green\")\n",
        "  #plt.plot(df[\"time\"][i],df[\"aceleracion\"][i],\"o\", color=\"green\")\n",
        "  \n",
        "\n",
        "#plt.axhline(y=-15, xmin=0, xmax=1000)\n",
        "#plt.axhline(y=11, xmin=0, xmax=1000)\n",
        "#plt.axhline(y=9, xmin=0, xmax=1000)\n",
        "plt.grid(True)\n",
        "plt.show()"
      ],
      "execution_count": null,
      "outputs": [
        {
          "output_type": "display_data",
          "data": {
            "image/png": "[encoded data removed]",
            "text/plain": [
              "<Figure size 1440x648 with 1 Axes>"
            ]
          },
          "metadata": {
            "tags": [],
            "needs_background": "light"
          }
        }
      ]
    },
    {
      "cell_type": "code",
      "metadata": {
        "id": "yy0paXtlEUFs",
        "outputId": "3c5fa807-3954-4980-b4a5-ab3bcf70c1be",
        "colab": {
          "base_uri": "https://localhost:8080/",
          "height": 483
        }
      },
      "source": [
        "#################################### LEVANTARSE FUNCIONA CON DF4 #######################################\n",
        "from statistics import mode\n",
        "from collections import Counter\n",
        "\n",
        "fig=plt.figure()\n",
        "fig.set_size_inches(14, 8)\n",
        "ax=fig.add_subplot(1,1,1)\n",
        "\n",
        "# amarillo: #FFFF00\n",
        "# naranja:  #FF9600\n",
        "# celeste:  #00FFFF\n",
        "# azul:     #0000FF\n",
        "# verde:    #00FF00\n",
        "\n",
        "#df = df1\n",
        "#df = df2\n",
        "df = df4\n",
        "#df = df5\n",
        "\n",
        "ang_l = [0, 0, 0, 0, 0]\n",
        "acc_l = [9.8, 9.8, 9.8, 9.8, 9.8]\n",
        "colores = {'E0': '#FFFF00', 'E1':'#FF9600', 'E2': '#00FFFF', 'E3': '#0000FF', 'E4': '#00FF00'}\n",
        "estado = \"E0\"\n",
        "suma = []\n",
        "aux = 0\n",
        "est_l = []\n",
        "der = [0, 0, 0, 0, 0]\n",
        "#der = []\n",
        "#for i in range(int(len(df)/30)):\n",
        "#for i in range(int(len(df)/2), int(len(df))):\n",
        "#for i in range(6600, 10100):\n",
        "for i in range(int(len(df)/1.05), int(len(df))):  \n",
        "  ang = df['angulo'][i]\n",
        "  acc = df[\"aceleracion\"][i]*(196/4765)\n",
        "\n",
        "  #ang_d = (ang_l[4] < ang_l[3]) and (ang_l[3] < ang_l[2]) and (ang_l[2] < ang_l[1]) and (ang_l[1] < ang_l[0])\n",
        "  #ang_a = (ang_l[4] > ang_l[3]) and (ang_l[3] > ang_l[2]) and (ang_l[2] > ang_l[1]) and (ang_l[1] > ang_l[0])\n",
        "\n",
        "  ang_a = (ang_l[4] > ang_l[0])\n",
        "  ang_d = (ang_l[0] > ang_l[4])\n",
        "\n",
        "  if (i>=1) and (i<=(int(len(df)/30)-1)):\n",
        "    derivada = ((df['angulo'][i+1] - df['angulo'][i-1])) / (2*0.01)\n",
        "    #derivada = \n",
        "    #derivada = ((df['angulo'][i+1] - 2*df['angulo'][i] + df['angulo'][i-1])) / (0.01*0.01)\n",
        "    #print(derivada)\n",
        "    der.append(derivada)\n",
        "    #plt.plot(df[\"time\"][i],derivada,\"o\", color=\"green\")\n",
        "\n",
        "  if i>=5:\n",
        "\n",
        "    if (i<=(int(len(df)/30)-1)):\n",
        "      derivadaf = Counter([der[i-4],der[i-3], der[i-2],der[i-1],der[i]]).most_common(1)[0][0]\n",
        "\n",
        "    if (derivadaf == 0):\n",
        "      if (estado == \"E3\"):\n",
        "        estado = \"E0\"\n",
        "      elif (estado == \"E2\"):\n",
        "        estado = \"E3\"\n",
        "      else:\n",
        "        estado = estado\n",
        "    \n",
        "    elif (derivadaf < 0):\n",
        "      if (estado == \"E0\"):\n",
        "        estado = \"E1\"\n",
        "      else:\n",
        "        estado = estado\n",
        "\n",
        "    else:         # derivadaf > 0}\n",
        "      if (estado == \"E1\"):\n",
        "        estado = \"E2\"\n",
        "      else:\n",
        "        estado = estado\n",
        "\n",
        "    est_l.append(estado)\n",
        "    ang_l = [df['angulo'][i-4], df['angulo'][i-3], df['angulo'][i-2], df['angulo'][i-1], df['angulo'][i]]\n",
        "    plt.plot(df[\"time\"][i],derivadaf,\"o\", color=\"black\")\n",
        "  color_act = colores[estado]\n",
        "\n",
        "    \n",
        "  plt.plot(df[\"time\"][i],df[\"angulo\"][i],\"o\", color=color_act)\n",
        "  #plt.plot(df[\"time\"][i],df[\"angulo\"][i],\"o\", color=\"blue\")\n",
        "  \"\"\"if acc > 10:\n",
        "    plt.plot(df[\"time\"][i],df[\"aceleracion\"][i]*(196/4765),\"o\", color=\"green\")\n",
        "  else:\n",
        "    plt.plot(df[\"time\"][i],df[\"aceleracion\"][i]*(196/4765),\"o\", color=\"red\")\"\"\"\n",
        "#print(suma)\n",
        "#plt.axhline(y=-20, xmin=0, xmax=1000)\n",
        "#plt.axhline(y=11, xmin=0, xmax=1000)\n",
        "#plt.axhline(y=9, xmin=0, xmax=1000)\n",
        "#plt.grid(True)\n",
        "#plt.axis([0, int(len(df)/30), -150, 150])\n",
        "plt.show()"
      ],
      "execution_count": null,
      "outputs": [
        {
          "output_type": "display_data",
          "data": {
            "image/png": "[encoded data removed]",
            "text/plain": [
              "<Figure size 1008x576 with 1 Axes>"
            ]
          },
          "metadata": {
            "tags": [],
            "needs_background": "light"
          }
        }
      ]
    }
  ]
}